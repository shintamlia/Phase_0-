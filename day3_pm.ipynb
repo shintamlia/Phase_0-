{
 "cells": [
  {
   "cell_type": "markdown",
   "metadata": {},
   "source": [
    "**NOMOR 2**\n",
    "\n",
    "Buat sebuah function untuk mereturn hanya angka genap (positif/negatif) dari sekumpulan list yang berisi nilai-nilai (tidak termasuk 0).\n",
    "  * Input : `daftar_angka` : daftar angka-angka | list of int\n",
    "  * Output : daftar angka-angka genap | list of int\n",
    "\n",
    "| No | Input | Output |\n",
    "| - | - | - |\n",
    "| 1 | daftar_angka = [1, 2, 3, 4, 5, 6] | [2, 4, 6] |\n",
    "| 2 | daftar_angka = [0, 1, 3, 5, 7, 9] | [] |\n",
    "| 3 | daftar_angka = [-10, -9, -8, -7]  | [-10, -8] |\n"
   ]
  },
  {
   "cell_type": "markdown",
   "metadata": {},
   "source": [
    "**NOMOR 7**\n",
    "\n",
    "Buatlah sebuah function untuk menampilkan tanda plus (`+`) berbentuk segitiga dibawah ini.\n",
    "  * Input : `n` | int\n",
    "  * Output : Jumlah tanda plus yang dimunculkan.\n",
    "\n",
    "| Input | Output |\n",
    "| - | - |\n",
    "| n = 1 | + |\n",
    "| n = 2 | ++ <br /> +|\n",
    "| n = 3 | +++ <br /> ++ <br /> +|\n",
    "| n = 4 | ++++ <br /> +++ <br /> ++ <br /> +|\n",
    "| n = 5 | +++++ <br /> ++++ <br /> +++ <br /> ++ <br /> +|\n",
    "| n = -1 | *--error--* |"
   ]
  },
  {
   "cell_type": "code",
   "execution_count": 28,
   "metadata": {},
   "outputs": [],
   "source": [
    "# n adalah input parameter atau argumennya \n",
    "\n",
    "def cetak_plus(n):\n",
    "    '''\n",
    "    func untuk mencetak + sesuai jumlah yang diinginkan\n",
    "    '''\n",
    "    if n <= 0:\n",
    "        print('--error--')\n",
    "    \n",
    "    for i in range(n, 0, -1):\n",
    "        print('+' * i)"
   ]
  },
  {
   "cell_type": "code",
   "execution_count": 11,
   "metadata": {},
   "outputs": [
    {
     "name": "stdout",
     "output_type": "stream",
     "text": [
      "--error--\n"
     ]
    }
   ],
   "source": [
    "cetak_plus (-1)"
   ]
  },
  {
   "cell_type": "code",
   "execution_count": 30,
   "metadata": {},
   "outputs": [
    {
     "name": "stdout",
     "output_type": "stream",
     "text": [
      "+++\n",
      "++\n",
      "+\n"
     ]
    }
   ],
   "source": [
    "cetak_plus (3)"
   ]
  },
  {
   "cell_type": "code",
   "execution_count": 31,
   "metadata": {},
   "outputs": [
    {
     "name": "stdout",
     "output_type": "stream",
     "text": [
      "+++++\n",
      "++++\n",
      "+++\n",
      "++\n",
      "+\n"
     ]
    }
   ],
   "source": [
    "cetak_plus (5)"
   ]
  },
  {
   "cell_type": "markdown",
   "metadata": {},
   "source": []
  },
  {
   "cell_type": "markdown",
   "metadata": {},
   "source": [
    "**NOMOR 8**\n",
    "\n",
    "Buatlah sebuah function untuk mengambil huruf vokal dari sebuah teks dan masukkan ke dalam sebuah list. Return list yang terdiri dari huruf vokal tersebut.\n",
    "  * Input : `teks` | str\n",
    "\n",
    "| No | Input | Output |\n",
    "| - | - | - |\n",
    "| 1 | teks = 'selamat pagi' | ['e', 'a', 'a', 'a', 'i'] |\n",
    "| 2 | teks = '1002'| [] |\n",
    "| 3 | teks = 'myth' | [] |"
   ]
  },
  {
   "cell_type": "code",
   "execution_count": 54,
   "metadata": {},
   "outputs": [],
   "source": [
    "def cetak_hvokal(teks):\n",
    "    '''\n",
    "    Fungsi untuk mengambil huruf vokal dalam list\n",
    "\n",
    "    n = string yang berisi teks yang ingin di proses\n",
    "\n",
    "    return = list yang berisi huruf vokal dari test\n",
    "\n",
    "    '''\n",
    "    vokal = []\n",
    "    for huruf in teks.lower():\n",
    "           if huruf in \"aiueo\":\n",
    "                 vokal.append(huruf)\n",
    "    return vokal\n"
   ]
  },
  {
   "cell_type": "code",
   "execution_count": 55,
   "metadata": {},
   "outputs": [
    {
     "data": {
      "text/plain": [
       "['e', 'a', 'a', 'a', 'i']"
      ]
     },
     "execution_count": 55,
     "metadata": {},
     "output_type": "execute_result"
    }
   ],
   "source": [
    "cetak_hvokal('selamat pagi')"
   ]
  },
  {
   "cell_type": "code",
   "execution_count": 58,
   "metadata": {},
   "outputs": [
    {
     "data": {
      "text/plain": [
       "[]"
      ]
     },
     "execution_count": 58,
     "metadata": {},
     "output_type": "execute_result"
    }
   ],
   "source": [
    "cetak_hvokal('1002')"
   ]
  },
  {
   "cell_type": "code",
   "execution_count": 59,
   "metadata": {},
   "outputs": [
    {
     "data": {
      "text/plain": [
       "[]"
      ]
     },
     "execution_count": 59,
     "metadata": {},
     "output_type": "execute_result"
    }
   ],
   "source": [
    "cetak_hvokal('myth')"
   ]
  },
  {
   "cell_type": "markdown",
   "metadata": {},
   "source": [
    "- Fungsi cetak_hvokal menerima satu argumen, yaitu teks, yang merupakan string yang berisi teks yang ingin diproses.\n",
    "- Di dalam fungsi, terdapat variabel vokal yang diinisialisasi sebagai list kosong.\n",
    "- Loop for digunakan untuk mengiterasi setiap huruf dalam teks.\n",
    "- Di dalam loop, fungsi lower() digunakan untuk mengubah huruf menjadi huruf kecil.\n",
    "- Jika huruf termasuk dalam daftar huruf vokal (\"aeiou\"), maka huruf tersebut ditambahkan ke list vokal.\n",
    "- Terakhir, fungsi return mengembalikan list vokal."
   ]
  },
  {
   "cell_type": "markdown",
   "metadata": {},
   "source": [
    "**NOMOR 9**\n",
    "\n",
    "Buatlah sebuah function untuk mengambil huruf selain huruf vokal (huruf konsonan) dari sebuah teks dan masukkan ke dalam sebuah list. Return list yang terdiri dari huruf konsonan tersebut.\n",
    "  * Input : `teks` | str\n",
    "  * Jika karakter tersebut merupakan angka, maka jangan diambil.\n",
    "\n",
    "| No | Input | Output |\n",
    "| - | - | - |\n",
    "| 1 | teks = 'selamat pagi' | ['s', 'l', 'm', 't', 'p', 'g] |\n",
    "| 2 | teks = '1002'| [] |\n",
    "| 3 | teks = 'myth' | ['m', 'y', 't', 'h'] |"
   ]
  },
  {
   "cell_type": "code",
   "execution_count": 61,
   "metadata": {},
   "outputs": [],
   "source": [
    "def cetak_konsonan(teks):\n",
    "    '''\n",
    "    Fungsi ini mengambil konsonan dari teks dan memasukannya ke dalam list\n",
    "\n",
    "    teks =  string yang berisi teks yang akan diproses \n",
    "\n",
    "    returns = list yang berisi huruf konsonan dari teks\n",
    "    '''\n",
    "\n",
    "    # Inisialisas list kosong untuk menampung konsonan\n",
    "    konsonan = []\n",
    "\n",
    "    # Iterasi setiap karakter teks \n",
    "    for huruf in teks:            \n",
    "        huruf = huruf.lower()       #ubah huruf menjadi lower case \n",
    "        if huruf in \"aiueo\" or huruf.isdigit():     # pengecakan jika huruf termasuk huruf vokal atau angka \n",
    "            continue\n",
    "        konsonan.append(huruf)      # jika bukan huruf vokal atau angka, tambahkan ke list konsonan\n",
    "    return konsonan         # Kembalikan list berisi konsonan\n",
    "\n"
   ]
  },
  {
   "cell_type": "code",
   "execution_count": 67,
   "metadata": {},
   "outputs": [
    {
     "data": {
      "text/plain": [
       "['s', 'l', 'm', 't', ' ', 'p', 'g']"
      ]
     },
     "execution_count": 67,
     "metadata": {},
     "output_type": "execute_result"
    }
   ],
   "source": [
    "cetak_konsonan('selamat pagi')"
   ]
  },
  {
   "cell_type": "code",
   "execution_count": 63,
   "metadata": {},
   "outputs": [
    {
     "data": {
      "text/plain": [
       "[]"
      ]
     },
     "execution_count": 63,
     "metadata": {},
     "output_type": "execute_result"
    }
   ],
   "source": [
    "cetak_konsonan('1002')"
   ]
  },
  {
   "cell_type": "code",
   "execution_count": 65,
   "metadata": {},
   "outputs": [
    {
     "data": {
      "text/plain": [
       "['m', 'y', 't', 'h']"
      ]
     },
     "execution_count": 65,
     "metadata": {},
     "output_type": "execute_result"
    }
   ],
   "source": [
    "cetak_konsonan('myth')"
   ]
  },
  {
   "cell_type": "markdown",
   "metadata": {},
   "source": [
    "- The function is defined as ambil_konsonan(teks), which takes one argument, teks, a string containing the text to process.\n",
    "- An empty list, konsonan, is initialized to store the consonants.\n",
    "- The code iterates through each character in the text using a for loop.\n",
    "- Inside the loop, the character is converted to lowercase using the lower() method.\n",
    "- An if statement checks if the character is a vowel (\"aeiou\") or a digit (isdigit()). If it is, the continue statement skips to the next iteration of the loop.\n",
    "- If the character is not a vowel or digit, it’s appended to the konsonan list.\n",
    "- Finally, the function returns the konsonan list containing the consonants extracted from the text."
   ]
  },
  {
   "cell_type": "markdown",
   "metadata": {},
   "source": [
    "**NOMOR 10**\n",
    "\n",
    "Buatlah sebuah function untuk mereturn hasil pengecekan dari sekumpulan angka yang dimasukkan, apakah bilangan pertama merupakan penjumlahan dari bilangan kedua, ketiga, dst (asumsikan bilangan yang dimasukkan tidak terbatas).\n",
    "  * Input : `bil_1` : bilangan ke-1 | int\n",
    "  * Input : `bil_2` : bilangan ke-2 | int\n",
    "  * Input : `bil_3` : bilangan ke-3 | int\n",
    "  * Input : `bil_4` : bilangan ke-4 | int\n",
    "  * dst\n",
    "\n",
    "| No | Input | Output |\n",
    "| - | - | - |\n",
    "| 1 | bil_1 = 10, <br/><br/> bil_2 = 20, <br/><br/> bil_3 = 50, <br/><br/> bil_4 = 600 | False |\n",
    "| 2 | bil_1 = 0, <br/><br/> bil_2 = 10, <br/><br/> bil_3 = -10 | True |\n",
    "| 3 | bil_1 = 20, <br/><br/> bil_2 = 20 | True |\n",
    "| 4 | bil_1 = 20 | False |\n",
    "| 5 | bil_1 = 10, <br/><br/> bil_2 = 200, <br/><br/> bil_3 = 300, <br/><br/> bil_4 = 400 <br/> <br/> bil_5 = 500 | False |"
   ]
  },
  {
   "cell_type": "code",
   "execution_count": 68,
   "metadata": {},
   "outputs": [],
   "source": [
    "def jumlah_berikutnya(bil_1, *bil_n):\n",
    "    '''\n",
    "    Fungsi ini mengecek apakah bilangan pertama adalah jumlah dari bilangan berikutnya\n",
    "\n",
    "    bil_1 (int) : bilangan pertama yang akan dicek\n",
    "    bil_n (int,...): bilangan berikutnya yang akan dijumlahkan\n",
    "\n",
    "    returns: \n",
    "    bool: True jika bil_1 adalah jumlah dari bil_n, false jika tidak\n",
    "    '''\n",
    "\n",
    "    jumlah_total = 0 \n",
    "    for bilangan in bil_n:\n",
    "        jumlah_total += bilangan\n",
    "\n",
    "    return jumlah_total == bil_1"
   ]
  },
  {
   "cell_type": "code",
   "execution_count": 69,
   "metadata": {},
   "outputs": [
    {
     "data": {
      "text/plain": [
       "False"
      ]
     },
     "execution_count": 69,
     "metadata": {},
     "output_type": "execute_result"
    }
   ],
   "source": [
    "jumlah_berikutnya(10,20,50,600)"
   ]
  },
  {
   "cell_type": "code",
   "execution_count": 70,
   "metadata": {},
   "outputs": [
    {
     "data": {
      "text/plain": [
       "True"
      ]
     },
     "execution_count": 70,
     "metadata": {},
     "output_type": "execute_result"
    }
   ],
   "source": [
    "jumlah_berikutnya(0,10,-10)"
   ]
  },
  {
   "cell_type": "markdown",
   "metadata": {},
   "source": [
    "- In the first example, the input text is \"selamat pagi\". The function extracts the consonants \"s\", \"l\", \"m\", \"t\", \"p\", and \"g\" and stores them in the konsonan list.\n",
    "- In the second example, the input text is \"1002\". Since the text only contains digits, the function returns an empty list.\n",
    "- In the third example, the input text is \"myth\". The function extracts the consonants \"m\", \"t\", and \"h\" and stores them in the konsonan list."
   ]
  },
  {
   "cell_type": "code",
   "execution_count": null,
   "metadata": {},
   "outputs": [],
   "source": []
  }
 ],
 "metadata": {
  "kernelspec": {
   "display_name": "Python 3",
   "language": "python",
   "name": "python3"
  },
  "language_info": {
   "codemirror_mode": {
    "name": "ipython",
    "version": 3
   },
   "file_extension": ".py",
   "mimetype": "text/x-python",
   "name": "python",
   "nbconvert_exporter": "python",
   "pygments_lexer": "ipython3",
   "version": "3.12.4"
  }
 },
 "nbformat": 4,
 "nbformat_minor": 2
}
