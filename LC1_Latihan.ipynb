{
 "cells": [
  {
   "cell_type": "markdown",
   "metadata": {},
   "source": [
    "#### 1. Buatlah fungsi untuk menghitung `jumlah kalori terbakar` berdasarkan `jenis kegiatan` dan `durasi dalam menit`, dengan ketentuan di bawah:\n",
    "\n",
    "<div align=\"center\">\n",
    "\n",
    "|Kegiatan|Kalori Terbakar per Menit|\n",
    "|--|--|\n",
    "|Berlari|10|\n",
    "|Bersepeda|8|\n",
    "|Berenang|12|\n",
    "\n",
    "\n",
    "</div>\n",
    "\n",
    "contoh:\n",
    "```\n",
    ">>> input: calories_burned(duration=60, exercise='berenang')\n",
    ">>> output: 720\n",
    "\n",
    ">>> input: calories_burned(duration=15, exercise='berlari')\n",
    ">>> output: 150\n",
    "\n",
    ">>> input:calories_burned(duration=20, exercise='bersepeda')\n",
    ">>> output: 160\n",
    "```"
   ]
  },
  {
   "cell_type": "code",
   "execution_count": 43,
   "metadata": {},
   "outputs": [],
   "source": [
    "# Membuat fungsi \n",
    " calories_burned(duration, exercise): \n",
    "    calorie = 0 \n",
    "    if exercise == \"berlari\":\n",
    "        calorie = 10 \n",
    "    if exercise == \"bersepeda\":\n",
    "        calorie = 8 \n",
    "    if exercise == \"berenang\":\n",
    "        calorie = 12 \n",
    "\n",
    "    total = calorie * duration \n",
    "\n",
    "    return f\"Jika berolahraga def{exercise} selama {duration} menit, maka kalori yang terbakar yaitu {total}\""
   ]
  },
  {
   "cell_type": "code",
   "execution_count": 45,
   "metadata": {},
   "outputs": [
    {
     "name": "stdout",
     "output_type": "stream",
     "text": [
      "Jika berolahraga bersepeda selama 20 menit, maka kalori yang terbakar yaitu 160\n"
     ]
    }
   ],
   "source": [
    "print(calories_burned(duration=20, exercise='bersepeda'))"
   ]
  },
  {
   "cell_type": "code",
   "execution_count": 1,
   "metadata": {},
   "outputs": [
    {
     "name": "stdout",
     "output_type": "stream",
     "text": [
      "720\n",
      "150\n",
      "160\n",
      "Jenis kegiatan tidak valid\n"
     ]
    }
   ],
   "source": [
    "def calories_burned(duration, exercise):\n",
    "    # Kalori terbakar per menit untuk setiap jenis kegiatan\n",
    "    calories_per_minute = {\n",
    "        'berlari': 10,\n",
    "        'bersepeda': 8,\n",
    "        'berenang': 12\n",
    "    }\n",
    "    \n",
    "    # Periksa apakah jenis kegiatan valid\n",
    "    if exercise in calories_per_minute:\n",
    "        # Hitung kalori terbakar\n",
    "        total_calories = duration * calories_per_minute[exercise]\n",
    "        return total_calories\n",
    "    else:\n",
    "        return \"Jenis kegiatan tidak valid\"\n",
    "\n",
    "# Contoh penggunaan fungsi\n",
    "print(calories_burned(duration=60, exercise='berenang'))  # Output: 720\n",
    "print(calories_burned(duration=15, exercise='berlari'))   # Output: 150\n",
    "print(calories_burned(duration=20, exercise='bersepeda')) # Output: 160\n",
    "print(calories_burned(duration=30, exercise='sepak bola')) # Output: Jenis kegiatan tidak valid\n"
   ]
  },
  {
   "cell_type": "markdown",
   "metadata": {},
   "source": [
    "#### 2. Buat function untuk menghitung `total kalori terbakar` dari `beberapa sesi latihan`, manfaatkan fungsi yang telah dibuat sebelumnya di dalam function ini.\n",
    "\n",
    "Notes:\n",
    "- Dalam kasus ini diasumsikan setiap sesi latihan memiliki durasi yang sama (`each_session_duration`).\n",
    "- Function yang dibuat memiliki input argumen berupa: `n-length jenis latihan yang dilakukan di setiap sesinya` dan `each_session_duration`\n",
    "- Manfaatkan `*args` variable-length input untuk memasukkan jenis latihan.\n",
    "- Manfaatkan function yang telah dibuat sebelumnya untuk mengitung kalori terbakar di setiap sesi\n",
    "\n",
    "Contoh:\n",
    "```\n",
    ">>> input: total_session_burned_cal('berenang', 'bersepeda', each_session_duration=10)\n",
    ">>> output: 200\n",
    "\n",
    "penjelasan:\n",
    "kegiatan berenang dilakukan 10 menit dan kegiatan bersepeda dilakukan 10 menit dapat membakar total 200 kalori"
   ]
  },
  {
   "cell_type": "code",
   "execution_count": 2,
   "metadata": {},
   "outputs": [],
   "source": [
    "def total_session_burned_cal(*exercises, each_session_duration):\n",
    "        total_calories = 0\n",
    "\n",
    "        for exercise in exercises:\n",
    "            calories = calories_burned(each_session_duration, exercise)\n",
    "            if isinstance(calories, int):  # Pastikan hasil dari calories_burned adalah angka\n",
    "                 total_calories += calories\n",
    "            else:\n",
    "                 return calories  # Jika ada kesalahan, return pesan kesalahan\n",
    "        \n",
    "        return total_calories\n",
    "    \n"
   ]
  },
  {
   "cell_type": "code",
   "execution_count": 3,
   "metadata": {},
   "outputs": [
    {
     "name": "stdout",
     "output_type": "stream",
     "text": [
      "200\n"
     ]
    }
   ],
   "source": [
    "print(total_session_burned_cal('berenang', 'bersepeda', each_session_duration=10))"
   ]
  },
  {
   "cell_type": "code",
   "execution_count": 4,
   "metadata": {},
   "outputs": [
    {
     "name": "stdout",
     "output_type": "stream",
     "text": [
      "200\n"
     ]
    }
   ],
   "source": [
    "print(total_session_burned_cal('berenang', 'bersepeda', each_session_duration=10))"
   ]
  },
  {
   "cell_type": "markdown",
   "metadata": {},
   "source": [
    "#### 3. Lakukan Unit Testing pada kedua function yang telah dibuat.\n",
    "\n",
    "  ***Notes:***\n",
    "  \n",
    "  Pengujian Unit testing dapat dilakukan pada cell .ipynb dengan cara:\n",
    "- Cukup buat cell baru dan tulis code kerangka unit test di cell tersebut dan jalankan langsung di cell tanpa menggunakan if __name__()=='__main__'.\n",
    "\n",
    "- Sebagai pengganti idiom ini:\n",
    "```\n",
    "`if __name__=='__main__'`:\n",
    "   unittest.main()\n",
    "```\n",
    "dapat menggunakan:\n",
    "```\n",
    "unittest.main(argv=[''], exit=False)\n",
    "```"
   ]
  },
  {
   "cell_type": "code",
   "execution_count": 116,
   "metadata": {},
   "outputs": [
    {
     "name": "stderr",
     "output_type": "stream",
     "text": [
      "....\n",
      "----------------------------------------------------------------------\n",
      "Ran 4 tests in 0.003s\n",
      "\n",
      "OK\n"
     ]
    },
    {
     "data": {
      "text/plain": [
       "<unittest.main.TestProgram at 0x1d139466f00>"
      ]
     },
     "execution_count": 116,
     "metadata": {},
     "output_type": "execute_result"
    }
   ],
   "source": [
    "import unittest\n",
    "\n",
    "def calories_burned(duration, exercise):\n",
    "    # Kalori terbakar per menit untuk setiap jenis kegiatan\n",
    "    calories_per_minute = {\n",
    "        'berlari': 10,\n",
    "        'bersepeda': 8,\n",
    "        'berenang': 12\n",
    "    }\n",
    "    \n",
    "    # Periksa apakah jenis kegiatan valid\n",
    "    if exercise in calories_per_minute:\n",
    "        # Hitung kalori terbakar\n",
    "        total_calories = duration * calories_per_minute[exercise]\n",
    "        return total_calories\n",
    "    else:\n",
    "        return \"Jenis kegiatan tidak valid\"\n",
    "\n",
    "def total_session_burned_cal(*args, each_session_duration):\n",
    "    total_calories = 0\n",
    "    \n",
    "    for exercise in args:\n",
    "        calories = calories_burned(each_session_duration, exercise)\n",
    "        if isinstance(calories, int):  # Pastikan hasil dari calories_burned adalah angka\n",
    "            total_calories += calories\n",
    "        else:\n",
    "            return calories  # Jika ada kesalahan, return pesan kesalahan\n",
    "    \n",
    "    return total_calories\n",
    "\n",
    "class TestCaloriesBurned(unittest.TestCase):\n",
    "    def test_benar(self):\n",
    "        self.assertEqual(calories_burned(60, 'berenang'), 720)\n",
    "        self.assertEqual(calories_burned(15, 'berlari'), 150)\n",
    "        self.assertEqual(calories_burned(20, 'bersepeda'), 160)\n",
    "\n",
    "    def test_tidak_valid(self):\n",
    "        self.assertEqual(calories_burned(30, 'jalan kaki'), \"Jenis kegiatan tidak valid\")\n",
    "\n",
    "class TestTotalSessionBurnedCal(unittest.TestCase):\n",
    "    def test_total_benar(self):\n",
    "        self.assertEqual(total_session_burned_cal('berenang', 'bersepeda', each_session_duration=10), 200)\n",
    "        self.assertEqual(total_session_burned_cal('berlari', 'bersepeda', 'berenang', each_session_duration=15), 450)\n",
    "\n",
    "    def test_tidak_valid(self):\n",
    "        self.assertEqual(total_session_burned_cal('jalan kaki', each_session_duration=10), \"Jenis kegiatan tidak valid\")\n",
    "\n",
    "# Jalankan unit test\n",
    "unittest.main(argv=[''], exit=False)"
   ]
  },
  {
   "cell_type": "code",
   "execution_count": null,
   "metadata": {},
   "outputs": [],
   "source": []
  }
 ],
 "metadata": {
  "kernelspec": {
   "display_name": "Python 3",
   "language": "python",
   "name": "python3"
  },
  "language_info": {
   "codemirror_mode": {
    "name": "ipython",
    "version": 3
   },
   "file_extension": ".py",
   "mimetype": "text/x-python",
   "name": "python",
   "nbconvert_exporter": "python",
   "pygments_lexer": "ipython3",
   "version": "3.12.4"
  }
 },
 "nbformat": 4,
 "nbformat_minor": 2
}
